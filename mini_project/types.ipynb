{
 "cells": [
  {
   "cell_type": "code",
   "execution_count": 13,
   "metadata": {},
   "outputs": [
    {
     "name": "stdout",
     "output_type": "stream",
     "text": [
      "10\n",
      "8\n",
      "8\n",
      "20\n"
     ]
    },
    {
     "data": {
      "text/plain": [
       "[None, None, None, None]"
      ]
     },
     "execution_count": 13,
     "metadata": {},
     "output_type": "execute_result"
    }
   ],
   "source": [
    "a = 8\n",
    "a = [8,8,8]\n",
    "\n",
    "# [print(i) for i in a]\n",
    "a[0] = 10\n",
    "a.append(20)\n",
    "[print(i) for i in a]\n",
    "\n"
   ]
  },
  {
   "cell_type": "code",
   "execution_count": 14,
   "metadata": {},
   "outputs": [
    {
     "ename": "AttributeError",
     "evalue": "'tuple' object has no attribute 'append'",
     "output_type": "error",
     "traceback": [
      "\u001b[0;31m---------------------------------------------------------------------------\u001b[0m",
      "\u001b[0;31mAttributeError\u001b[0m                            Traceback (most recent call last)",
      "\u001b[1;32m/home/kpv/code/ppl/mini_project/types.ipynb Cell 2\u001b[0m in \u001b[0;36m<cell line: 2>\u001b[0;34m()\u001b[0m\n\u001b[1;32m      <a href='vscode-notebook-cell:/home/kpv/code/ppl/mini_project/types.ipynb#W2sZmlsZQ%3D%3D?line=0'>1</a>\u001b[0m tup \u001b[39m=\u001b[39m (\u001b[39m7\u001b[39m,\u001b[39m7\u001b[39m,\u001b[39m7\u001b[39m)\n\u001b[0;32m----> <a href='vscode-notebook-cell:/home/kpv/code/ppl/mini_project/types.ipynb#W2sZmlsZQ%3D%3D?line=1'>2</a>\u001b[0m tup\u001b[39m.\u001b[39;49mappend(\u001b[39m20\u001b[39m)\n\u001b[1;32m      <a href='vscode-notebook-cell:/home/kpv/code/ppl/mini_project/types.ipynb#W2sZmlsZQ%3D%3D?line=2'>3</a>\u001b[0m [\u001b[39mprint\u001b[39m(i) \u001b[39mfor\u001b[39;00m i \u001b[39min\u001b[39;00m tup]\n",
      "\u001b[0;31mAttributeError\u001b[0m: 'tuple' object has no attribute 'append'"
     ]
    }
   ],
   "source": [
    "tup = (7,7,7)\n",
    "[print(i) for i in tup]\n"
   ]
  },
  {
   "cell_type": "code",
   "execution_count": 15,
   "metadata": {},
   "outputs": [
    {
     "name": "stdout",
     "output_type": "stream",
     "text": [
      "array[0]: 10, tup[0]: 7\n"
     ]
    }
   ],
   "source": [
    "def function(a, b):\n",
    "    print(f'array[0]: {a[0]}, tup[0]: {b[0]}')\n",
    "    \n",
    "function(a, tup)"
   ]
  }
 ],
 "metadata": {
  "kernelspec": {
   "display_name": "Python 3",
   "language": "python",
   "name": "python3"
  },
  "language_info": {
   "codemirror_mode": {
    "name": "ipython",
    "version": 3
   },
   "file_extension": ".py",
   "mimetype": "text/x-python",
   "name": "python",
   "nbconvert_exporter": "python",
   "pygments_lexer": "ipython3",
   "version": "3.10.6 (main, Nov 14 2022, 16:10:14) [GCC 11.3.0]"
  },
  "orig_nbformat": 4,
  "vscode": {
   "interpreter": {
    "hash": "916dbcbb3f70747c44a77c7bcd40155683ae19c65e1c03b4aa3499c5328201f1"
   }
  }
 },
 "nbformat": 4,
 "nbformat_minor": 2
}
